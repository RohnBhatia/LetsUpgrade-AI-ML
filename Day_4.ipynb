{
  "nbformat": 4,
  "nbformat_minor": 0,
  "metadata": {
    "colab": {
      "name": "Day_4.ipynb",
      "provenance": []
    },
    "kernelspec": {
      "name": "python3",
      "display_name": "Python 3"
    }
  },
  "cells": [
    {
      "cell_type": "markdown",
      "metadata": {
        "id": "7D0bYM6qaWf8",
        "colab_type": "text"
      },
      "source": [
        "Question 1 :\n",
        "Research on whether addition, subtraction, multiplication, division, floor division and modulo\n",
        "operations be performed on complex numbers. Based on your study, implement a Python\n",
        "program to demonstrate these operations."
      ]
    },
    {
      "cell_type": "code",
      "metadata": {
        "id": "-397QEzwb9JG",
        "colab_type": "code",
        "colab": {
          "base_uri": "https://localhost:8080/",
          "height": 91
        },
        "outputId": "3231deea-0bfe-4670-96a8-41652842f19b"
      },
      "source": [
        "a = 3 + 4j\n",
        "b = 2 - 2j\n",
        "print(a+b)\n",
        "print(a-b)\n",
        "print(a*b)\n",
        "print(a/b)\n",
        "#print(a//b) This operation is not supported\n",
        "#print(a%b) This operation is not supported"
      ],
      "execution_count": 6,
      "outputs": [
        {
          "output_type": "stream",
          "text": [
            "(5+2j)\n",
            "(1+6j)\n",
            "(14+2j)\n",
            "(-0.25+1.75j)\n"
          ],
          "name": "stdout"
        }
      ]
    },
    {
      "cell_type": "markdown",
      "metadata": {
        "id": "ZZgNGER3hTNV",
        "colab_type": "text"
      },
      "source": [
        "Question 2 :\n",
        "Research on range() functions and its parameters. Create a markdown cell and write in your own\n",
        "words (no copy-paste from google please) what you understand about it. Implement a small\n",
        "program of your choice on the same."
      ]
    },
    {
      "cell_type": "code",
      "metadata": {
        "id": "RAn7C6QBhUZR",
        "colab_type": "code",
        "colab": {
          "base_uri": "https://localhost:8080/",
          "height": 111
        },
        "outputId": "b82b9da0-4bc2-4626-ec3b-1bfe72d56aff"
      },
      "source": [
        "#range functions generates an object of type range\n",
        "#range with one argument generates an object having numbers from 0 to n-1\n",
        "x = range(10) #range with 1 argument.\n",
        "print(x)\n",
        "#if we convert that object into a list, it will result into list having numbers in that range\n",
        "print(list(x))\n",
        "#range with two arguments results into a range object having numbers starting from \n",
        "#first argument to second argument.\n",
        "x = range(10,20) #will generate range object having numbers 10 to 19\n",
        "print(list(x))\n",
        "#range with three arguments generates a range object having numbers from first argument to \n",
        "#second argument with the interval of third argument\n",
        "x = range(0,100,2) #will generate even numbers from 0 to 99\n",
        "print(list(x))"
      ],
      "execution_count": 13,
      "outputs": [
        {
          "output_type": "stream",
          "text": [
            "range(0, 10)\n",
            "[0, 1, 2, 3, 4, 5, 6, 7, 8, 9]\n",
            "[10, 11, 12, 13, 14, 15, 16, 17, 18, 19]\n",
            "[0, 2, 4, 6, 8, 10, 12, 14, 16, 18, 20, 22, 24, 26, 28, 30, 32, 34, 36, 38, 40, 42, 44, 46, 48, 50, 52, 54, 56, 58, 60, 62, 64, 66, 68, 70, 72, 74, 76, 78, 80, 82, 84, 86, 88, 90, 92, 94, 96, 98]\n"
          ],
          "name": "stdout"
        }
      ]
    },
    {
      "cell_type": "markdown",
      "metadata": {
        "id": "ucIWbe3ujM6L",
        "colab_type": "text"
      },
      "source": [
        "Question 3:\n",
        "Consider two numbers. Perform their subtraction and if the result of subtraction is greater than\n",
        "25, print their multiplication result else print their division result."
      ]
    },
    {
      "cell_type": "code",
      "metadata": {
        "id": "cRjV0ClpjQn1",
        "colab_type": "code",
        "colab": {
          "base_uri": "https://localhost:8080/",
          "height": 73
        },
        "outputId": "13a0d628-1a97-4f04-dd89-a7f79617cad1"
      },
      "source": [
        "a = int(input(\"enter first number:\"))\n",
        "b = int(input(\"enter Second number:\"))\n",
        "if abs(a-b) > 25:\n",
        "  print('Multiplication is :',a*b)\n",
        "else:\n",
        "  print('Division is :',a/b)"
      ],
      "execution_count": 15,
      "outputs": [
        {
          "output_type": "stream",
          "text": [
            "enter first number:25\n",
            "enter Second number:21\n",
            "Division is : 1.1904761904761905\n"
          ],
          "name": "stdout"
        }
      ]
    },
    {
      "cell_type": "markdown",
      "metadata": {
        "id": "dNDHQZygj-60",
        "colab_type": "text"
      },
      "source": [
        "Question 4:\n",
        "Consider a list of 10 elements of integer values. If the number in the list is divisible by 2, print the\n",
        "result as \"square of that number minus 2\"."
      ]
    },
    {
      "cell_type": "code",
      "metadata": {
        "id": "7QoDYaSXkDp4",
        "colab_type": "code",
        "colab": {
          "base_uri": "https://localhost:8080/",
          "height": 147
        },
        "outputId": "182a80a5-e9f1-4b81-c64a-3b4e77a8b454"
      },
      "source": [
        "li = [12,11,354,34,23,56,12,45,10,4]\n",
        "for i in li:\n",
        "  if i%2 == 0:\n",
        "    print(\"Result of operation:\",i**2-2)"
      ],
      "execution_count": 16,
      "outputs": [
        {
          "output_type": "stream",
          "text": [
            "Result of operation: 142\n",
            "Result of operation: 125314\n",
            "Result of operation: 1154\n",
            "Result of operation: 3134\n",
            "Result of operation: 142\n",
            "Result of operation: 98\n",
            "Result of operation: 14\n"
          ],
          "name": "stdout"
        }
      ]
    },
    {
      "cell_type": "markdown",
      "metadata": {
        "id": "HtjnTfyKkiTU",
        "colab_type": "text"
      },
      "source": [
        "Question 5:\n",
        "Consider a list of 10 elements. Print all the elements in the list which are greater than 7 when that\n",
        "number is divided 2."
      ]
    },
    {
      "cell_type": "code",
      "metadata": {
        "id": "6nnV7iAkkjPN",
        "colab_type": "code",
        "colab": {
          "base_uri": "https://localhost:8080/",
          "height": 128
        },
        "outputId": "d01af043-e809-4430-b681-27b487675728"
      },
      "source": [
        "li = [11,4,5,53,43,7,23,1,32,8]\n",
        "for i in li:\n",
        "  if i > 7:\n",
        "    print(i/2)"
      ],
      "execution_count": 17,
      "outputs": [
        {
          "output_type": "stream",
          "text": [
            "5.5\n",
            "26.5\n",
            "21.5\n",
            "11.5\n",
            "16.0\n",
            "4.0\n"
          ],
          "name": "stdout"
        }
      ]
    }
  ]
}