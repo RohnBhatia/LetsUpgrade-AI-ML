{
  "nbformat": 4,
  "nbformat_minor": 0,
  "metadata": {
    "colab": {
      "name": "Day5_AIML.ipynb",
      "provenance": []
    },
    "kernelspec": {
      "name": "python3",
      "display_name": "Python 3"
    }
  },
  "cells": [
    {
      "cell_type": "markdown",
      "metadata": {
        "id": "1QXu4PrAYtN0",
        "colab_type": "text"
      },
      "source": [
        "Question 1 :\n",
        "Write a Python program to find the first 20 non-even prime natural numbers."
      ]
    },
    {
      "cell_type": "code",
      "metadata": {
        "id": "FrQQ824ne2m4",
        "colab_type": "code",
        "colab": {
          "base_uri": "https://localhost:8080/",
          "height": 36
        },
        "outputId": "70052159-a316-40c4-8b0f-fc1e768974e2"
      },
      "source": [
        "def ip(n):\n",
        "    for i in range(3,n):\n",
        "        if n%i == 0:\n",
        "            return False             #this means that number isn't prime\n",
        "        \n",
        "li = []                              #stores numbers\n",
        "num = 3                              #all odd prime numbers start from 3\n",
        "while len(li) < 20:                  #loop will continue till list contains 20 numbers\n",
        "    if ip(num) == None:              #if number is prime, function returns nothing\n",
        "        li.append(num)               #add that number to the list\n",
        "    num += 2                         #update value to check for next number. \n",
        "print(li) "
      ],
      "execution_count": 6,
      "outputs": [
        {
          "output_type": "stream",
          "text": [
            "[3, 5, 7, 11, 13, 17, 19, 23, 29, 31, 37, 41, 43, 47, 53, 59, 61, 67, 71, 73]\n"
          ],
          "name": "stdout"
        }
      ]
    },
    {
      "cell_type": "markdown",
      "metadata": {
        "id": "DDtxOzwwAS1Q",
        "colab_type": "text"
      },
      "source": [
        "Question 2 :\n",
        "Write a Python program to implement 15 functions of string."
      ]
    },
    {
      "cell_type": "code",
      "metadata": {
        "id": "YvuI9IMqAaY4",
        "colab_type": "code",
        "colab": {
          "base_uri": "https://localhost:8080/",
          "height": 297
        },
        "outputId": "b5c82457-63ee-4f0c-d10e-74dd556da155"
      },
      "source": [
        "n = \"Rohan\"\n",
        "n.capitalize()\n",
        "print(n)\n",
        "print(n.count('o'))\n",
        "print(n.islower())\n",
        "print(n.isnumeric())\n",
        "print(n.lower())\n",
        "print(n.replace(\"an\",'it'))\n",
        "print(n.upper())\n",
        "print(n.find('an'))\n",
        "print(n.index(\"R\"))\n",
        "print(n.startswith(\"r\"))\n",
        "print(n.endswith(\"n\"))\n",
        "print(n.format())\n",
        "print(n.isprintable())\n",
        "print(n.title())\n",
        "print(n.isalnum())"
      ],
      "execution_count": 41,
      "outputs": [
        {
          "output_type": "stream",
          "text": [
            "Rohan\n",
            "1\n",
            "False\n",
            "False\n",
            "rohan\n",
            "Rohit\n",
            "ROHAN\n",
            "3\n",
            "0\n",
            "False\n",
            "True\n",
            "Rohan\n",
            "True\n",
            "Rohan\n",
            "True\n"
          ],
          "name": "stdout"
        }
      ]
    },
    {
      "cell_type": "markdown",
      "metadata": {
        "id": "zWD2T0GHH7Ep",
        "colab_type": "text"
      },
      "source": [
        "Question 3:\n",
        "Write a Python program to check if the given string is a Palindrome or Anagram or None of them.\n",
        "Display the message accordingly to the user."
      ]
    },
    {
      "cell_type": "code",
      "metadata": {
        "id": "ye3a1L6LIBNq",
        "colab_type": "code",
        "colab": {
          "base_uri": "https://localhost:8080/",
          "height": 110
        },
        "outputId": "370597e0-fe93-4ce2-9d7d-71ae189c0263"
      },
      "source": [
        "ips = input(\"Enter String you want to check:\")\n",
        "ips = ips.lower()          #convert to lower as user may enter first letter as capital\n",
        "if ips == ips[::-1]:\n",
        "  print(\"It is Palindrome\")\n",
        "else:\n",
        "  print(\"It isn't\")\n",
        "\n",
        "#anagram check\n",
        "w1 = input(\"Enter First word.\")\n",
        "w2 = input(\"Enter Second word.\")\n",
        "if sorted(w1) == sorted(w2):\n",
        "  print(\"They are Anagram\")\n",
        "else:\n",
        "  print(\"They Aren't\")\n"
      ],
      "execution_count": 45,
      "outputs": [
        {
          "output_type": "stream",
          "text": [
            "Enter String you want to check:lil\n",
            "It is Palindrome\n",
            "Enter First word.sam\n",
            "Enter Second word.mas\n",
            "They are Anagram\n"
          ],
          "name": "stdout"
        }
      ]
    },
    {
      "cell_type": "markdown",
      "metadata": {
        "id": "gZG2CuyVK7rn",
        "colab_type": "text"
      },
      "source": [
        "Write a Python's user defined function that removes all the additional characters from the string\n",
        "and converts it finally to lower case using built-in lower(). eg: If the string is \"Dr. Darshan Ingle\n",
        "@AI-ML Trainer\", then the output be \"drdarshaningleaimltrainer\"."
      ]
    },
    {
      "cell_type": "code",
      "metadata": {
        "id": "NWYljXLClmuD",
        "colab_type": "code",
        "colab": {}
      },
      "source": [
        "def convertstatement(s):\n",
        "  s = s.lower()                 #convert string to lowercase\n",
        "  li = list(s)                  #string converted to list which stores characters separately\n",
        "  ns = ''                       #ns i.e. new string that we require as output.\n",
        "                                # currently ns empty. only valid characters will be concatenated to it\n",
        "  for i in range(0,len(li)):    #here we traverse the list i.e. li\n",
        "    if li[i].isalpha() == True: #is that character alphanumeric?\n",
        "      ns += li[i]               #if yes, concatenate to new string\n",
        "  print('Converted string is : \\n', ns)"
      ],
      "execution_count": 60,
      "outputs": []
    },
    {
      "cell_type": "code",
      "metadata": {
        "id": "NMCJwtjNLDc6",
        "colab_type": "code",
        "colab": {
          "base_uri": "https://localhost:8080/",
          "height": 73
        },
        "outputId": "570a440f-cc1c-455e-c0ad-fdd4db74c4a2"
      },
      "source": [
        "s = input(\"Enter String you want to convert\") \n",
        "#s accepts statement from user\n",
        "convertstatement(s)"
      ],
      "execution_count": 61,
      "outputs": [
        {
          "output_type": "stream",
          "text": [
            "Enter String you want to convertbhatia rohan bhat%&%#& JBJBTDTo ^&%^ JMNrcf V ^ HJ bhb\n",
            "Converted string is : \n",
            " bhatiarohanbhatjbjbtdtojmnrcfvhjbhb\n"
          ],
          "name": "stdout"
        }
      ]
    }
  ]
}