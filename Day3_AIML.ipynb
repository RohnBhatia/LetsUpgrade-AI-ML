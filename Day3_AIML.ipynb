{
  "nbformat": 4,
  "nbformat_minor": 0,
  "metadata": {
    "colab": {
      "name": "Day3_AIML.ipynb",
      "provenance": []
    },
    "kernelspec": {
      "name": "python3",
      "display_name": "Python 3"
    }
  },
  "cells": [
    {
      "cell_type": "markdown",
      "metadata": {
        "id": "jxG1lycpOSTJ",
        "colab_type": "text"
      },
      "source": [
        "Question 1 :\n",
        "Write a program to subtract two complex numbers in Python."
      ]
    },
    {
      "cell_type": "code",
      "metadata": {
        "id": "bb0jixsCOcQg",
        "colab_type": "code",
        "colab": {
          "base_uri": "https://localhost:8080/",
          "height": 73
        },
        "outputId": "16ad5083-afb2-4a49-d740-95bd1e92aaa9"
      },
      "source": [
        "def subcomp(a,b):\n",
        "  print(a-b)\n",
        "\n",
        "a = complex(input(\"Enter First Number:\"))\n",
        "b = complex(input(\"Enter Second Number:\"))\n",
        "subcomp(a,b)\n",
        "\n"
      ],
      "execution_count": 1,
      "outputs": [
        {
          "output_type": "stream",
          "text": [
            "Enter First Number:3+4j\n",
            "Enter Second Number:2-4j\n",
            "(1+8j)\n"
          ],
          "name": "stdout"
        }
      ]
    },
    {
      "cell_type": "markdown",
      "metadata": {
        "id": "rWlT0VjtPNer",
        "colab_type": "text"
      },
      "source": [
        "Question 2 :\n",
        "Write a program to find the fourth root of a number."
      ]
    },
    {
      "cell_type": "code",
      "metadata": {
        "id": "DK8m1vZJPRic",
        "colab_type": "code",
        "colab": {
          "base_uri": "https://localhost:8080/",
          "height": 36
        },
        "outputId": "4012c94b-910b-4b07-d048-0874369f0284"
      },
      "source": [
        "r = 1000\n",
        "print(r**(1/4))"
      ],
      "execution_count": 2,
      "outputs": [
        {
          "output_type": "stream",
          "text": [
            "5.623413251903491\n"
          ],
          "name": "stdout"
        }
      ]
    },
    {
      "cell_type": "markdown",
      "metadata": {
        "id": "BZHRoe98P9bL",
        "colab_type": "text"
      },
      "source": [
        "Question 3:\n",
        "Write a program to swap two numbers in Python with the help of a temporary variable."
      ]
    },
    {
      "cell_type": "code",
      "metadata": {
        "id": "_MFB9FYvQBY9",
        "colab_type": "code",
        "colab": {
          "base_uri": "https://localhost:8080/",
          "height": 36
        },
        "outputId": "302fc63f-4c2f-4073-93bc-0e8f7d59475d"
      },
      "source": [
        "a = 5\n",
        "b = 6\n",
        "c = a\n",
        "a = b\n",
        "b = c\n",
        "print(a,b)"
      ],
      "execution_count": 3,
      "outputs": [
        {
          "output_type": "stream",
          "text": [
            "6 5\n"
          ],
          "name": "stdout"
        }
      ]
    },
    {
      "cell_type": "markdown",
      "metadata": {
        "id": "aEtrLjEeQRsl",
        "colab_type": "text"
      },
      "source": [
        "Question 4:\n",
        "Write a program to swap two numbers in Python without using a temporary variable."
      ]
    },
    {
      "cell_type": "code",
      "metadata": {
        "id": "isSmuz5PQUt6",
        "colab_type": "code",
        "colab": {
          "base_uri": "https://localhost:8080/",
          "height": 111
        },
        "outputId": "524cf6a7-22e6-49ce-e5b4-848952b14fb7"
      },
      "source": [
        "a = int(input(\"Enter first number:\"))\n",
        "b = int(input(\"Enter second number:\"))\n",
        "a = a+b\n",
        "b = a-b\n",
        "a = a-b\n",
        "print(\"Swapped numbers:\")\n",
        "print(\"Swapped First Number:\",a)\n",
        "print(\"Swapped Second Number:\",b)"
      ],
      "execution_count": 6,
      "outputs": [
        {
          "output_type": "stream",
          "text": [
            "Enter first number:100\n",
            "Enter second number:1000\n",
            "Swapped numbers:\n",
            "Swapped First Number: 1000\n",
            "Swapped Second Number: 100\n"
          ],
          "name": "stdout"
        }
      ]
    },
    {
      "cell_type": "markdown",
      "metadata": {
        "id": "A_yOg_pGRMHS",
        "colab_type": "text"
      },
      "source": [
        "Question 5:\n",
        "Write a program to convert fahrenheit to kelvin and celsius both.\n"
      ]
    },
    {
      "cell_type": "code",
      "metadata": {
        "id": "-mrLvARbRPgv",
        "colab_type": "code",
        "colab": {
          "base_uri": "https://localhost:8080/",
          "height": 73
        },
        "outputId": "95b22f36-5529-4e87-c969-d9e8305ff102"
      },
      "source": [
        "f = float(input(\"Enter Temperature in Farenheit: \"))\n",
        "c = 5/9*(f - 32)\n",
        "k = c + 273\n",
        "print('Temperature in Celsius:',c)\n",
        "print('Temperature in Kelvin:',k)"
      ],
      "execution_count": 8,
      "outputs": [
        {
          "output_type": "stream",
          "text": [
            "Enter Temperature in Farenheit: 98\n",
            "Temperature in Celsius: 36.66666666666667\n",
            "Temperature in Kelvin: 309.6666666666667\n"
          ],
          "name": "stdout"
        }
      ]
    },
    {
      "cell_type": "markdown",
      "metadata": {
        "id": "xAQLlMt0SQcC",
        "colab_type": "text"
      },
      "source": [
        "Question 6:\n",
        "Write a program to demonstrate all the available data types in Python. Hint: Use type() function."
      ]
    },
    {
      "cell_type": "code",
      "metadata": {
        "id": "QnVulRC0SSTV",
        "colab_type": "code",
        "colab": {
          "base_uri": "https://localhost:8080/",
          "height": 167
        },
        "outputId": "5b16931e-cd39-4072-d65a-a8ebe88513e4"
      },
      "source": [
        "a = 10\n",
        "print(type(a))\n",
        "a = 10.0\n",
        "print(type(a))\n",
        "a = 10 + 5j\n",
        "print(type(a))\n",
        "a = \"100\"\n",
        "print(type(a))\n",
        "a = []\n",
        "print(type(a))\n",
        "a = ()\n",
        "print(type(a))\n",
        "a = {}\n",
        "print(type(a))\n",
        "a = {1,2,3,4}\n",
        "print(type(a))"
      ],
      "execution_count": 16,
      "outputs": [
        {
          "output_type": "stream",
          "text": [
            "<class 'int'>\n",
            "<class 'float'>\n",
            "<class 'complex'>\n",
            "<class 'str'>\n",
            "<class 'list'>\n",
            "<class 'tuple'>\n",
            "<class 'dict'>\n",
            "<class 'set'>\n"
          ],
          "name": "stdout"
        }
      ]
    },
    {
      "cell_type": "markdown",
      "metadata": {
        "id": "yqBFHZO8TfAI",
        "colab_type": "text"
      },
      "source": [
        "Question 7:\n",
        "Create a Markdown cell in jupyter and list the steps discussed in the session by Dr. Darshan\n",
        "Ingle sir to create Github profile and upload Githubs Assignment link."
      ]
    },
    {
      "cell_type": "code",
      "metadata": {
        "id": "kj24LGwhTkEL",
        "colab_type": "code",
        "colab": {}
      },
      "source": [
        "#Visit www.github.com\n",
        "#Create profile and sign in\n",
        "#Create new repository named as \"LetsUpgrade AI-ML\"\n",
        "#Create new file in which you'll store your assignment/simply drag and drop your assignment\n",
        "#Commit that file.\n",
        "#Done "
      ],
      "execution_count": null,
      "outputs": []
    }
  ]
}